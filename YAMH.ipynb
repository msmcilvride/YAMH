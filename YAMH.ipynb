{
 "cells": [
  {
   "cell_type": "code",
   "execution_count": 121,
   "id": "colored-report",
   "metadata": {},
   "outputs": [],
   "source": [
    "import numpy as np\n",
    "import random as rd"
   ]
  },
  {
   "cell_type": "code",
   "execution_count": 122,
   "id": "sorted-arena",
   "metadata": {},
   "outputs": [],
   "source": [
    "def d6():\n",
    "    return rd.randint(1,6)"
   ]
  },
  {
   "cell_type": "code",
   "execution_count": 124,
   "id": "thermal-fight",
   "metadata": {},
   "outputs": [],
   "source": [
    "data = []\n",
    "\n",
    "for _ in range(10000):\n",
    "\n",
    "    total_damage = 0\n",
    "    shots = 0\n",
    "\n",
    "    while total_damage < 10:\n",
    "\n",
    "        hit_roll = d6()\n",
    "\n",
    "        # print(\"Hit roll:\", hit_roll)\n",
    "\n",
    "        if hit_roll < 3:\n",
    "            continue\n",
    "\n",
    "        wound_roll = d6()\n",
    "\n",
    "        # print(\"Wound roll:\", wound_roll)\n",
    "\n",
    "        if wound_roll < 3:\n",
    "            continue\n",
    "\n",
    "        # roll save, subtract AP\n",
    "        save_roll = d6() - 4\n",
    "\n",
    "        # print(\"Save roll:\", save_roll)\n",
    "\n",
    "        # >= because saves work in reverse\n",
    "        if save_roll >= 3:\n",
    "            continue\n",
    "\n",
    "        atk_damage = d6()\n",
    "        total_damage += atk_damage\n",
    "        shots += 1\n",
    "\n",
    "        # print(\"Atk Damage:\", atk_damage)\n",
    "        # print(\"Total Damage:\", total_damage)\n",
    "        \n",
    "    data.append(shots)"
   ]
  },
  {
   "cell_type": "code",
   "execution_count": 125,
   "id": "frank-spray",
   "metadata": {},
   "outputs": [
    {
     "data": {
      "text/plain": [
       "3.3225"
      ]
     },
     "execution_count": 125,
     "metadata": {},
     "output_type": "execute_result"
    }
   ],
   "source": [
    "np.mean(data)"
   ]
  }
 ],
 "metadata": {
  "kernelspec": {
   "display_name": "Python 3",
   "language": "python",
   "name": "python3"
  },
  "language_info": {
   "codemirror_mode": {
    "name": "ipython",
    "version": 3
   },
   "file_extension": ".py",
   "mimetype": "text/x-python",
   "name": "python",
   "nbconvert_exporter": "python",
   "pygments_lexer": "ipython3",
   "version": "3.7.9"
  }
 },
 "nbformat": 4,
 "nbformat_minor": 5
}
