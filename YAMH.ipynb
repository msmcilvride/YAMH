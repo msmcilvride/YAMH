{
 "cells": [
  {
   "cell_type": "code",
   "execution_count": 1,
   "id": "colored-report",
   "metadata": {},
   "outputs": [],
   "source": [
    "import numpy as np\n",
    "import random as rd"
   ]
  },
  {
   "cell_type": "code",
   "execution_count": 2,
   "id": "sorted-arena",
   "metadata": {},
   "outputs": [],
   "source": [
    "def d3():\n",
    "    return rd.randint(1, 3)\n",
    "\n",
    "def d6():\n",
    "    return rd.randint(1, 6)"
   ]
  },
  {
   "cell_type": "code",
   "execution_count": 3,
   "id": "thermal-fight",
   "metadata": {},
   "outputs": [],
   "source": [
    "# issue: AP doesn't seem to be working\n",
    "# issue: the d6() function rolls once, it needs to roll for each iteration\n",
    "\n",
    "def dakka(BS, TW, AP, Sv, D, W):\n",
    "    '''\n",
    "    BS: Ballistics Score.\n",
    "    TW: To Wound. The result needed after comparing Strength to Toughness.\n",
    "    AP: Armor Piercing. Should be either 0 or negative.\n",
    "    Sv: Save of the defending model.\n",
    "    D: Damage.\n",
    "    W: Wounds of defending model.\n",
    "    '''\n",
    "    \n",
    "    data = []\n",
    "\n",
    "    for _ in range(10000):\n",
    "\n",
    "        total_damage = 0\n",
    "        shots = 0\n",
    "\n",
    "        while total_damage < W:\n",
    "\n",
    "            hit_roll = d6()\n",
    "\n",
    "#             print(\"Hit roll:\", hit_roll)\n",
    "\n",
    "            if hit_roll < BS:\n",
    "                continue\n",
    "\n",
    "            wound_roll = d6()\n",
    "\n",
    "#             print(\"Wound roll:\", wound_roll)\n",
    "\n",
    "            if wound_roll < TW:\n",
    "                continue\n",
    "\n",
    "            # roll save, subtract AP\n",
    "            save_roll = d6() + AP\n",
    "\n",
    "#             print(\"Save roll:\", save_roll)\n",
    "\n",
    "            if save_roll >= Sv:\n",
    "                continue\n",
    "\n",
    "            atk_damage = d6()\n",
    "            total_damage += atk_damage\n",
    "            shots += 1\n",
    "\n",
    "#             print(\"Atk Damage:\", atk_damage)\n",
    "#             print(\"Total Damage:\", total_damage)\n",
    "\n",
    "        data.append(shots)\n",
    "    \n",
    "    return data"
   ]
  },
  {
   "cell_type": "code",
   "execution_count": 4,
   "id": "frank-spray",
   "metadata": {},
   "outputs": [
    {
     "data": {
      "text/plain": [
       "3.3139"
      ]
     },
     "execution_count": 4,
     "metadata": {},
     "output_type": "execute_result"
    }
   ],
   "source": [
    "model = dakka(BS=3,\n",
    "              TW=3,\n",
    "              AP=0,\n",
    "              Sv=3,\n",
    "              D=0,\n",
    "              W=10)\n",
    "\n",
    "np.mean(model)"
   ]
  },
  {
   "cell_type": "code",
   "execution_count": 5,
   "id": "fourth-monkey",
   "metadata": {},
   "outputs": [],
   "source": [
    "def dakka_test(threshold, iterations=10000):\n",
    "    \n",
    "    results = []\n",
    "\n",
    "    for _ in range(iterations):\n",
    "\n",
    "        die_roll = d6()\n",
    "\n",
    "#         print(\"Hit roll:\", hit_roll)\n",
    "\n",
    "        if die_roll < threshold:\n",
    "            results.append(0)\n",
    "#             print(\"Data: 0\")\n",
    "            continue\n",
    "        else:\n",
    "            results.append(1)\n",
    "#             print(\"Data: 1\")\n",
    "            pass\n",
    "    \n",
    "    return results\n",
    "\n",
    "\n",
    "def to_hit(BS, iterations):\n",
    "    \n",
    "    results = dakka_test(BS, iterations)\n",
    "    \n",
    "    print(\"Hits\")\n",
    "    print(\"   Sum:\", sum(hits))\n",
    "    print(\"  Mean:\", np.mean(hits))\n",
    "    \n",
    "    return results\n",
    "\n",
    "\n",
    "def to_wound(W, iterations):\n",
    "    \n",
    "    results = dakka_test(W, iterations)\n",
    "    \n",
    "    print(\"Wounds\")\n",
    "    print(\"   Sum:\", sum(wounds))\n",
    "    print(\"  Mean:\", np.mean(wounds))\n",
    "    \n",
    "    return results\n",
    "\n",
    "\n",
    "def save_roll(Sv, AP, iterations=10000):\n",
    "    \n",
    "    results = []\n",
    "\n",
    "    for _ in range(iterations):\n",
    "\n",
    "        die_roll = d6() + AP\n",
    "\n",
    "#         print(\"Die roll:\", die_roll)\n",
    "\n",
    "        if die_roll >= Sv:\n",
    "            results.append(0)\n",
    "#             print(\"Result: 0\")\n",
    "            continue\n",
    "        else:\n",
    "            results.append(1)\n",
    "#             print(\"Result: 1\")\n",
    "            pass\n",
    "    \n",
    "    print(\"Failed Saves\")\n",
    "    print(\"   Sum:\", sum(failed_saves))\n",
    "    print(\"  Mean:\", np.mean(failed_saves))\n",
    "    \n",
    "    return results"
   ]
  },
  {
   "cell_type": "code",
   "execution_count": 6,
   "id": "mathematical-provincial",
   "metadata": {},
   "outputs": [
    {
     "name": "stdout",
     "output_type": "stream",
     "text": [
      "Hits\n"
     ]
    },
    {
     "ename": "NameError",
     "evalue": "name 'hits' is not defined",
     "output_type": "error",
     "traceback": [
      "\u001b[0;31m---------------------------------------------------------------------------\u001b[0m",
      "\u001b[0;31mNameError\u001b[0m                                 Traceback (most recent call last)",
      "\u001b[0;32m<ipython-input-6-8632e39ade13>\u001b[0m in \u001b[0;36m<module>\u001b[0;34m\u001b[0m\n\u001b[0;32m----> 1\u001b[0;31m \u001b[0mhits\u001b[0m \u001b[0;34m=\u001b[0m \u001b[0mto_hit\u001b[0m\u001b[0;34m(\u001b[0m\u001b[0;36m3\u001b[0m\u001b[0;34m,\u001b[0m \u001b[0;36m10000\u001b[0m\u001b[0;34m)\u001b[0m\u001b[0;34m\u001b[0m\u001b[0;34m\u001b[0m\u001b[0m\n\u001b[0m\u001b[1;32m      2\u001b[0m \u001b[0mwounds\u001b[0m \u001b[0;34m=\u001b[0m \u001b[0mto_wound\u001b[0m\u001b[0;34m(\u001b[0m\u001b[0;36m3\u001b[0m\u001b[0;34m,\u001b[0m \u001b[0msum\u001b[0m\u001b[0;34m(\u001b[0m\u001b[0mhits\u001b[0m\u001b[0;34m)\u001b[0m\u001b[0;34m)\u001b[0m\u001b[0;34m\u001b[0m\u001b[0;34m\u001b[0m\u001b[0m\n\u001b[1;32m      3\u001b[0m \u001b[0mfailed_saves\u001b[0m \u001b[0;34m=\u001b[0m \u001b[0msave_roll\u001b[0m\u001b[0;34m(\u001b[0m\u001b[0;36m3\u001b[0m\u001b[0;34m,\u001b[0m \u001b[0;34m-\u001b[0m\u001b[0;36m4\u001b[0m\u001b[0;34m,\u001b[0m \u001b[0msum\u001b[0m\u001b[0;34m(\u001b[0m\u001b[0mwounds\u001b[0m\u001b[0;34m)\u001b[0m\u001b[0;34m)\u001b[0m\u001b[0;34m\u001b[0m\u001b[0;34m\u001b[0m\u001b[0m\n",
      "\u001b[0;32m<ipython-input-5-7f85bfd0473d>\u001b[0m in \u001b[0;36mto_hit\u001b[0;34m(BS, iterations)\u001b[0m\n\u001b[1;32m     26\u001b[0m \u001b[0;34m\u001b[0m\u001b[0m\n\u001b[1;32m     27\u001b[0m     \u001b[0mprint\u001b[0m\u001b[0;34m(\u001b[0m\u001b[0;34m\"Hits\"\u001b[0m\u001b[0;34m)\u001b[0m\u001b[0;34m\u001b[0m\u001b[0;34m\u001b[0m\u001b[0m\n\u001b[0;32m---> 28\u001b[0;31m     \u001b[0mprint\u001b[0m\u001b[0;34m(\u001b[0m\u001b[0;34m\"   Sum:\"\u001b[0m\u001b[0;34m,\u001b[0m \u001b[0msum\u001b[0m\u001b[0;34m(\u001b[0m\u001b[0mhits\u001b[0m\u001b[0;34m)\u001b[0m\u001b[0;34m)\u001b[0m\u001b[0;34m\u001b[0m\u001b[0;34m\u001b[0m\u001b[0m\n\u001b[0m\u001b[1;32m     29\u001b[0m     \u001b[0mprint\u001b[0m\u001b[0;34m(\u001b[0m\u001b[0;34m\"  Mean:\"\u001b[0m\u001b[0;34m,\u001b[0m \u001b[0mnp\u001b[0m\u001b[0;34m.\u001b[0m\u001b[0mmean\u001b[0m\u001b[0;34m(\u001b[0m\u001b[0mhits\u001b[0m\u001b[0;34m)\u001b[0m\u001b[0;34m)\u001b[0m\u001b[0;34m\u001b[0m\u001b[0;34m\u001b[0m\u001b[0m\n\u001b[1;32m     30\u001b[0m \u001b[0;34m\u001b[0m\u001b[0m\n",
      "\u001b[0;31mNameError\u001b[0m: name 'hits' is not defined"
     ]
    }
   ],
   "source": [
    "hits = to_hit(3, 10000)\n",
    "wounds = to_wound(3, sum(hits))\n",
    "failed_saves = save_roll(3, -4, sum(wounds))"
   ]
  },
  {
   "cell_type": "code",
   "execution_count": null,
   "id": "insured-gates",
   "metadata": {},
   "outputs": [],
   "source": []
  }
 ],
 "metadata": {
  "kernelspec": {
   "display_name": "Python 3",
   "language": "python",
   "name": "python3"
  },
  "language_info": {
   "codemirror_mode": {
    "name": "ipython",
    "version": 3
   },
   "file_extension": ".py",
   "mimetype": "text/x-python",
   "name": "python",
   "nbconvert_exporter": "python",
   "pygments_lexer": "ipython3",
   "version": "3.7.9"
  }
 },
 "nbformat": 4,
 "nbformat_minor": 5
}
