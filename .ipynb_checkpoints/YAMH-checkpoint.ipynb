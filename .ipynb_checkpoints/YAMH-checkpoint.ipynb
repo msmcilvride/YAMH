{
 "cells": [
  {
   "cell_type": "code",
   "execution_count": 1,
   "id": "colored-report",
   "metadata": {},
   "outputs": [],
   "source": [
    "import numpy as np\n",
    "import random as rd"
   ]
  },
  {
   "cell_type": "code",
   "execution_count": 2,
   "id": "sorted-arena",
   "metadata": {},
   "outputs": [],
   "source": [
    "def d3():\n",
    "    return rd.randint(1, 3)\n",
    "\n",
    "def d6():\n",
    "    return rd.randint(1, 6)"
   ]
  },
  {
   "cell_type": "code",
   "execution_count": 36,
   "id": "thermal-fight",
   "metadata": {},
   "outputs": [],
   "source": [
    "# issue: AP doesn't seem to be working\n",
    "# issue: the d6() function rolls once, it needs to roll for each iteration\n",
    "\n",
    "def dakka(BS, TW, AP, Sv, D, W):\n",
    "    '''\n",
    "    BS: Ballistics Score.\n",
    "    TW: To Wound. The result needed after comparing Strength to Toughness.\n",
    "    AP: Armor Piercing. Should be either 0 or negative.\n",
    "    Sv: Save of the defending model.\n",
    "    D: Damage.\n",
    "    W: Wounds of defending model.\n",
    "    '''\n",
    "    \n",
    "    data = []\n",
    "\n",
    "    for _ in range(10000):\n",
    "\n",
    "        total_damage = 0\n",
    "        shots = 0\n",
    "\n",
    "        while total_damage < W:\n",
    "\n",
    "            hit_roll = d6()\n",
    "\n",
    "#             print(\"Hit roll:\", hit_roll)\n",
    "\n",
    "            if hit_roll < BS:\n",
    "                continue\n",
    "\n",
    "            wound_roll = d6()\n",
    "\n",
    "#             print(\"Wound roll:\", wound_roll)\n",
    "\n",
    "            if wound_roll < TW:\n",
    "                continue\n",
    "\n",
    "            # roll save, subtract AP\n",
    "            save_roll = d6() + AP\n",
    "\n",
    "#             print(\"Save roll:\", save_roll)\n",
    "\n",
    "            if save_roll >= Sv:\n",
    "                continue\n",
    "\n",
    "            atk_damage = d6()\n",
    "            total_damage += atk_damage\n",
    "            shots += 1\n",
    "\n",
    "#             print(\"Atk Damage:\", atk_damage)\n",
    "#             print(\"Total Damage:\", total_damage)\n",
    "\n",
    "        data.append(shots)\n",
    "    \n",
    "    return data"
   ]
  },
  {
   "cell_type": "code",
   "execution_count": 37,
   "id": "frank-spray",
   "metadata": {},
   "outputs": [
    {
     "data": {
      "text/plain": [
       "3.3139"
      ]
     },
     "execution_count": 37,
     "metadata": {},
     "output_type": "execute_result"
    }
   ],
   "source": [
    "model = dakka(BS=3,\n",
    "              TW=3,\n",
    "              AP=0,\n",
    "              Sv=3,\n",
    "              D=0,\n",
    "              W=10)\n",
    "\n",
    "np.mean(model)"
   ]
  },
  {
   "cell_type": "code",
   "execution_count": 59,
   "id": "educated-proposal",
   "metadata": {},
   "outputs": [],
   "source": [
    "def to_hit(BS):\n",
    "    \n",
    "    results = []\n",
    "\n",
    "    for _ in range(10000):\n",
    "\n",
    "        die_roll = d6()\n",
    "\n",
    "#         print(\"Hit roll:\", hit_roll)\n",
    "\n",
    "        if die_roll < BS:\n",
    "            results.append(0)\n",
    "#             print(\"Data: 0\")\n",
    "            continue\n",
    "        else:\n",
    "            results.append(1)\n",
    "#             print(\"Data: 1\")\n",
    "            pass\n",
    "    \n",
    "    print(\"Hits\")\n",
    "    print(\"   Sum:\", sum(results))\n",
    "    print(\"  Mean:\", np.mean(results))\n",
    "    \n",
    "    return results\n",
    "\n",
    "def to_wound(threshold):\n",
    "    \n",
    "    results = []\n",
    "\n",
    "    for _ in range(10000):\n",
    "\n",
    "        die_roll = d6()\n",
    "\n",
    "#         print(\"Hit roll:\", hit_roll)\n",
    "\n",
    "        if die_roll < threshold:\n",
    "            results.append(0)\n",
    "#             print(\"Data: 0\")\n",
    "            continue\n",
    "        else:\n",
    "            results.append(1)\n",
    "#             print(\"Data: 1\")\n",
    "            pass\n",
    "\n",
    "    print(\"Wounds\")\n",
    "    print(\"   Sum:\", sum(results))\n",
    "    print(\"  Mean:\", np.mean(results))\n",
    "\n",
    "    return results\n",
    "\n",
    "\n",
    "def save_roll(Sv, AP):\n",
    "    \n",
    "    results = []\n",
    "\n",
    "    for _ in range(10000):\n",
    "\n",
    "        die_roll = d6() + AP\n",
    "\n",
    "#         print(\"Die roll:\", die_roll)\n",
    "\n",
    "        if die_roll >= Sv:\n",
    "            results.append(0)\n",
    "#             print(\"Result: 0\")\n",
    "            continue\n",
    "        else:\n",
    "            results.append(1)\n",
    "#             print(\"Result: 1\")\n",
    "            pass\n",
    "    \n",
    "    print(\"Failed Saves\")\n",
    "    print(\"   Sum:\", sum(results))\n",
    "    print(\"  Mean:\", np.mean(results))\n",
    "    \n",
    "    return results\n",
    "\n",
    "def damage_roll():\n",
    "    \n",
    "    results = []\n",
    "    \n",
    "    for _ in range(10000):\n",
    "        \n",
    "        damage_roll = d6()\n",
    "        \n",
    "        results.append(damage_roll)\n",
    "        \n",
    "    print(\"Damage\")\n",
    "    print(\"   Sum:\", sum(results))\n",
    "    print(\"  Mean:\", np.mean(results))\n",
    "        \n",
    "    return results"
   ]
  },
  {
   "cell_type": "code",
   "execution_count": 61,
   "id": "amateur-andrew",
   "metadata": {},
   "outputs": [
    {
     "name": "stdout",
     "output_type": "stream",
     "text": [
      "Hits\n",
      "   Sum: 6626\n",
      "  Mean: 0.6626\n",
      "Wounds\n",
      "   Sum: 6712\n",
      "  Mean: 0.6712\n",
      "Failed Saves\n",
      "   Sum: 10000\n",
      "  Mean: 1.0\n",
      "Damage\n",
      "   Sum: 35119\n",
      "  Mean: 3.5119\n"
     ]
    }
   ],
   "source": [
    "hits = to_hit(3)\n",
    "wounds = to_wound(3)\n",
    "failed_saves = save_roll(3, -4)\n",
    "damage = damage_roll()"
   ]
  },
  {
   "cell_type": "code",
   "execution_count": 50,
   "id": "described-strap",
   "metadata": {},
   "outputs": [
    {
     "data": {
      "text/plain": [
       "1.5246000000000002"
      ]
     },
     "execution_count": 50,
     "metadata": {},
     "output_type": "execute_result"
    }
   ],
   "source": [
    "# Four number summary: Hit Chance * Wound Chance * Save Chance * Damage\n",
    ".66 * .66 * 1 * 3.5"
   ]
  },
  {
   "cell_type": "code",
   "execution_count": null,
   "id": "rental-transparency",
   "metadata": {},
   "outputs": [],
   "source": []
  },
  {
   "cell_type": "code",
   "execution_count": null,
   "id": "infinite-management",
   "metadata": {},
   "outputs": [],
   "source": []
  }
 ],
 "metadata": {
  "kernelspec": {
   "display_name": "Python 3",
   "language": "python",
   "name": "python3"
  },
  "language_info": {
   "codemirror_mode": {
    "name": "ipython",
    "version": 3
   },
   "file_extension": ".py",
   "mimetype": "text/x-python",
   "name": "python",
   "nbconvert_exporter": "python",
   "pygments_lexer": "ipython3",
   "version": "3.7.9"
  }
 },
 "nbformat": 4,
 "nbformat_minor": 5
}
