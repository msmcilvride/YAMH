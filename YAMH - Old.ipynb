{
 "cells": [
  {
   "cell_type": "code",
   "execution_count": 62,
   "id": "colored-report",
   "metadata": {},
   "outputs": [],
   "source": [
    "import numpy as np\n",
    "import random as rd"
   ]
  },
  {
   "cell_type": "code",
   "execution_count": 63,
   "id": "sorted-arena",
   "metadata": {},
   "outputs": [],
   "source": [
    "def d3():\n",
    "    return rd.randint(1, 3)\n",
    "\n",
    "def d6():\n",
    "    return rd.randint(1, 6)"
   ]
  },
  {
   "cell_type": "code",
   "execution_count": 64,
   "id": "thermal-fight",
   "metadata": {},
   "outputs": [],
   "source": [
    "# issue: AP doesn't seem to be working\n",
    "# issue: the d6() function rolls once, it needs to roll for each iteration\n",
    "\n",
    "def dakka(BS, TW, AP, Sv, D, W):\n",
    "    '''\n",
    "    BS: Ballistics Score.\n",
    "    TW: To Wound. The result needed after comparing Strength to Toughness.\n",
    "    AP: Armor Piercing. Should be either 0 or negative.\n",
    "    Sv: Save of the defending model.\n",
    "    D: Damage.\n",
    "    W: Wounds of defending model.\n",
    "    '''\n",
    "    \n",
    "    data = []\n",
    "\n",
    "    for _ in range(10000):\n",
    "\n",
    "        total_damage = 0\n",
    "        shots = 0\n",
    "\n",
    "        while total_damage < W:\n",
    "\n",
    "            hit_roll = d6()\n",
    "\n",
    "#             print(\"Hit roll:\", hit_roll)\n",
    "\n",
    "            if hit_roll < BS:\n",
    "                continue\n",
    "\n",
    "            wound_roll = d6()\n",
    "\n",
    "#             print(\"Wound roll:\", wound_roll)\n",
    "\n",
    "            if wound_roll < TW:\n",
    "                continue\n",
    "\n",
    "            # roll save, subtract AP\n",
    "            save_roll = d6() + AP\n",
    "\n",
    "#             print(\"Save roll:\", save_roll)\n",
    "\n",
    "            if save_roll >= Sv:\n",
    "                continue\n",
    "\n",
    "            atk_damage = d6()\n",
    "            total_damage += atk_damage\n",
    "            shots += 1\n",
    "\n",
    "#             print(\"Atk Damage:\", atk_damage)\n",
    "#             print(\"Total Damage:\", total_damage)\n",
    "\n",
    "        data.append(shots)\n",
    "    \n",
    "    return data"
   ]
  },
  {
   "cell_type": "code",
   "execution_count": 65,
   "id": "frank-spray",
   "metadata": {},
   "outputs": [
    {
     "data": {
      "text/plain": [
       "3.3256"
      ]
     },
     "execution_count": 65,
     "metadata": {},
     "output_type": "execute_result"
    }
   ],
   "source": [
    "model = dakka(BS=3,\n",
    "              TW=3,\n",
    "              AP=0,\n",
    "              Sv=3,\n",
    "              D=0,\n",
    "              W=10)\n",
    "\n",
    "np.mean(model)"
   ]
  },
  {
   "cell_type": "code",
   "execution_count": 101,
   "id": "mental-pharmacology",
   "metadata": {},
   "outputs": [],
   "source": []
  },
  {
   "cell_type": "code",
   "execution_count": 111,
   "id": "professional-initial",
   "metadata": {},
   "outputs": [
    {
     "name": "stdout",
     "output_type": "stream",
     "text": [
      "Hits\n",
      "   Sum: 6654\n",
      "  Mean: 0.6654\n",
      "Wounds\n",
      "   Sum: 6640\n",
      "  Mean: 0.664\n",
      "Failed Saves\n",
      "   Sum: 3316\n",
      "  Mean: 0.3316\n",
      "Damage\n",
      "   Sum: 35236\n",
      "  Mean: 3.5236\n"
     ]
    }
   ],
   "source": []
  },
  {
   "cell_type": "code",
   "execution_count": 112,
   "id": "mature-heath",
   "metadata": {},
   "outputs": [
    {
     "data": {
      "text/plain": [
       "0.5162404124674561"
      ]
     },
     "execution_count": 112,
     "metadata": {},
     "output_type": "execute_result"
    }
   ],
   "source": []
  },
  {
   "cell_type": "code",
   "execution_count": null,
   "id": "local-december",
   "metadata": {},
   "outputs": [],
   "source": [
    "# todo\n",
    "# expert crafters"
   ]
  },
  {
   "cell_type": "code",
   "execution_count": null,
   "id": "pregnant-pacific",
   "metadata": {},
   "outputs": [],
   "source": []
  },
  {
   "cell_type": "code",
   "execution_count": null,
   "id": "fixed-collapse",
   "metadata": {},
   "outputs": [],
   "source": []
  },
  {
   "cell_type": "code",
   "execution_count": null,
   "id": "charming-romania",
   "metadata": {},
   "outputs": [],
   "source": []
  }
 ],
 "metadata": {
  "kernelspec": {
   "display_name": "Python 3",
   "language": "python",
   "name": "python3"
  },
  "language_info": {
   "codemirror_mode": {
    "name": "ipython",
    "version": 3
   },
   "file_extension": ".py",
   "mimetype": "text/x-python",
   "name": "python",
   "nbconvert_exporter": "python",
   "pygments_lexer": "ipython3",
   "version": "3.7.9"
  }
 },
 "nbformat": 4,
 "nbformat_minor": 5
}
